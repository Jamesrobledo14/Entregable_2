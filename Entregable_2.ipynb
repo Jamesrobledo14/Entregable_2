{
  "nbformat": 4,
  "nbformat_minor": 0,
  "metadata": {
    "colab": {
      "provenance": []
    },
    "kernelspec": {
      "name": "python3",
      "display_name": "Python 3"
    },
    "language_info": {
      "name": "python"
    }
  },
  "cells": [
    {
      "cell_type": "code",
      "execution_count": null,
      "metadata": {
        "id": "5mjm3JMpbsIC"
      },
      "outputs": [],
      "source": [
        "x = int(input(\"1:\"))\n",
        "y = int(input(\"2:\"))\n",
        "z = int(input(\"3:\"))\n",
        "\n",
        "w = (x+y+z)/3\n",
        "print(f\"El promedio de los numeros es: {w}\")"
      ]
    },
    {
      "cell_type": "code",
      "source": [
        "x = int(input(\"Numero a comprobar: \"))\n",
        "y = x%2\n",
        "\n",
        "if y == 0:\n",
        "  print(f\"{x} es par\")\n",
        "else:\n",
        "  print(f\"{x} es impar\")"
      ],
      "metadata": {
        "colab": {
          "base_uri": "https://localhost:8080/"
        },
        "id": "eU9uaBnmcGp7",
        "outputId": "23cef3fb-97d9-4e91-c44f-16f72f19cea9"
      },
      "execution_count": 3,
      "outputs": [
        {
          "output_type": "stream",
          "name": "stdout",
          "text": [
            "Numero a comprobar: 3\n",
            "3 es impar\n"
          ]
        }
      ]
    },
    {
      "cell_type": "code",
      "source": [
        "n = int(input(\"Introduce el numero al que deceas saber su factorial: \"))\n",
        "x = 1\n",
        "z = 0\n",
        "if n >= 0:\n",
        "    for t in range(1,n+1):\n",
        "        x *= t\n",
        "        z += 1\n",
        "    print(f\"El factorial de {n} es {x}\")\n",
        "\n",
        "else:\n",
        "    print(\"Digite valores positivos incluido el 0 para este programa\")"
      ],
      "metadata": {
        "colab": {
          "base_uri": "https://localhost:8080/"
        },
        "id": "aqVeXXPmcd7o",
        "outputId": "1dbdfc24-2eba-44e8-8474-58f71ed13eee"
      },
      "execution_count": 4,
      "outputs": [
        {
          "output_type": "stream",
          "name": "stdout",
          "text": [
            "Introduce el numero al que deceas saber su factorial: 4\n",
            "El factorial de 4 es 24\n"
          ]
        }
      ]
    },
    {
      "cell_type": "code",
      "source": [
        "from math import sqrt\n",
        "x = int(input(\"Numero a calcular su raiz cuadrada: \"))\n",
        "print(f\"la raiz cuadrada de su numero es: {sqrt(x)}\")"
      ],
      "metadata": {
        "colab": {
          "base_uri": "https://localhost:8080/"
        },
        "id": "muzcbanwc5_A",
        "outputId": "d2626400-1ba0-4499-8a87-9a7d456850f6"
      },
      "execution_count": 5,
      "outputs": [
        {
          "output_type": "stream",
          "name": "stdout",
          "text": [
            "Numero a calcular su raiz cuadrada: 2\n",
            "la raiz cuadrada de su numero es: 1.4142135623730951\n"
          ]
        }
      ]
    },
    {
      "cell_type": "code",
      "source": [
        "def mcm(a, b):\n",
        "    def gcd(x, y):\n",
        "        while y:\n",
        "            x, y = y, x % y\n",
        "        return x\n",
        "    return abs(a * b) // gcd(a, b)\n",
        "\n",
        "x = int(input(\"1:\"))\n",
        "y = int(input(\"2:\"))\n",
        "\n",
        "print(f\"El minimo comun multiplo de esos numeros es: {mcm(x,y)}\")"
      ],
      "metadata": {
        "colab": {
          "base_uri": "https://localhost:8080/"
        },
        "id": "9yd0KiwwdgmV",
        "outputId": "fda9e676-b310-4fbe-9324-b100c5bb1ba0"
      },
      "execution_count": 6,
      "outputs": [
        {
          "output_type": "stream",
          "name": "stdout",
          "text": [
            "1:4\n",
            "2:6\n",
            "El minimo comun multiplo de esos numeros es: 12\n"
          ]
        }
      ]
    }
  ]
}